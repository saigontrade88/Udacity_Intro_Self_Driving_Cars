{
 "cells": [
  {
   "cell_type": "code",
   "execution_count": 47,
   "metadata": {},
   "outputs": [],
   "source": [
    "import numpy as np"
   ]
  },
  {
   "cell_type": "code",
   "execution_count": 48,
   "metadata": {},
   "outputs": [],
   "source": [
    "# Feature vector 1\n",
    "X1 = np.array([1, 4, 5, 1, 3])"
   ]
  },
  {
   "cell_type": "code",
   "execution_count": 49,
   "metadata": {},
   "outputs": [],
   "source": [
    "# Feature vector 2\n",
    "X2 = np.array([7, 10, 3, 4, 5])"
   ]
  },
  {
   "cell_type": "code",
   "execution_count": 50,
   "metadata": {},
   "outputs": [],
   "source": [
    "# Feature vector 3\n",
    "X3 = np.array([11, 8, 13, 15, 10])"
   ]
  },
  {
   "cell_type": "code",
   "execution_count": 51,
   "metadata": {},
   "outputs": [],
   "source": [
    "# Feature vector 4\n",
    "X4 = np.array([20, 7 , 18, 5, 14])"
   ]
  },
  {
   "cell_type": "code",
   "execution_count": 52,
   "metadata": {},
   "outputs": [],
   "source": [
    "# Feature vector 5\n",
    "mydata = np.array([X1, X2, X3, X4])"
   ]
  },
  {
   "cell_type": "code",
   "execution_count": 53,
   "metadata": {},
   "outputs": [
    {
     "data": {
      "text/plain": [
       "(4, 5)"
      ]
     },
     "execution_count": 53,
     "metadata": {},
     "output_type": "execute_result"
    }
   ],
   "source": [
    "mydata.shape"
   ]
  },
  {
   "cell_type": "code",
   "execution_count": 54,
   "metadata": {},
   "outputs": [
    {
     "data": {
      "text/plain": [
       "(5,)"
      ]
     },
     "execution_count": 54,
     "metadata": {},
     "output_type": "execute_result"
    }
   ],
   "source": [
    "X1.shape"
   ]
  },
  {
   "cell_type": "code",
   "execution_count": 55,
   "metadata": {},
   "outputs": [],
   "source": [
    "# A set of data examples\n",
    "Point1 = np.array([1, 7, 11, 20])\n",
    "Point2 = np.array([4, 10, 8, 7])\n",
    "Point3 = np.array([5, 3, 13, 18])\n",
    "Point4 = np.array([1, 4, 15, 5])\n",
    "Point5 = np.array([3, 5, 10, 14])"
   ]
  },
  {
   "cell_type": "code",
   "execution_count": 56,
   "metadata": {},
   "outputs": [],
   "source": [
    "mydata = np.array([Point1, Point2, Point3, Point4, Point5])"
   ]
  },
  {
   "cell_type": "code",
   "execution_count": 57,
   "metadata": {},
   "outputs": [
    {
     "data": {
      "text/plain": [
       "array([[ 1,  7, 11, 20],\n",
       "       [ 4, 10,  8,  7],\n",
       "       [ 5,  3, 13, 18],\n",
       "       [ 1,  4, 15,  5],\n",
       "       [ 3,  5, 10, 14]])"
      ]
     },
     "execution_count": 57,
     "metadata": {},
     "output_type": "execute_result"
    }
   ],
   "source": [
    "mydata"
   ]
  },
  {
   "cell_type": "code",
   "execution_count": 58,
   "metadata": {},
   "outputs": [
    {
     "data": {
      "text/plain": [
       "(5, 4)"
      ]
     },
     "execution_count": 58,
     "metadata": {},
     "output_type": "execute_result"
    }
   ],
   "source": [
    "mydata.shape"
   ]
  },
  {
   "cell_type": "code",
   "execution_count": 59,
   "metadata": {},
   "outputs": [],
   "source": [
    "import scipy.spatial\n",
    "# Computes the standardized Euclidean distance. \n",
    "# Computes the squared Euclidean distance  between the vectors.\n",
    "distance_matrix = scipy.spatial.distance.pdist(mydata, 'sqeuclidean')"
   ]
  },
  {
   "cell_type": "code",
   "execution_count": 60,
   "metadata": {},
   "outputs": [
    {
     "data": {
      "text/plain": [
       "array([196.,  40., 250.,  45., 196.,  98.,  79., 190.,  33., 111.])"
      ]
     },
     "execution_count": 60,
     "metadata": {},
     "output_type": "execute_result"
    }
   ],
   "source": [
    "distance_matrix"
   ]
  },
  {
   "cell_type": "code",
   "execution_count": 61,
   "metadata": {},
   "outputs": [],
   "source": [
    "#convert condesnsed to sparse form of the distance matrix\n",
    "#https://docs.scipy.org/doc/scipy-0.14.0/reference/generated/scipy.spatial.distance.squareform.html\n",
    "sparse_form = scipy.spatial.distance.squareform(distance_matrix)"
   ]
  },
  {
   "cell_type": "code",
   "execution_count": 62,
   "metadata": {
    "scrolled": true
   },
   "outputs": [
    {
     "data": {
      "text/plain": [
       "array([[  0., 196.,  40., 250.,  45.],\n",
       "       [196.,   0., 196.,  98.,  79.],\n",
       "       [ 40., 196.,   0., 190.,  33.],\n",
       "       [250.,  98., 190.,   0., 111.],\n",
       "       [ 45.,  79.,  33., 111.,   0.]])"
      ]
     },
     "execution_count": 62,
     "metadata": {},
     "output_type": "execute_result"
    }
   ],
   "source": [
    "sparse_form"
   ]
  },
  {
   "cell_type": "code",
   "execution_count": 63,
   "metadata": {},
   "outputs": [
    {
     "data": {
      "text/plain": [
       "(5, 5)"
      ]
     },
     "execution_count": 63,
     "metadata": {},
     "output_type": "execute_result"
    }
   ],
   "source": [
    "t = 2\n",
    "S = np.exp(-sparse_form/t)\n",
    "S.shape"
   ]
  },
  {
   "cell_type": "code",
   "execution_count": 64,
   "metadata": {},
   "outputs": [],
   "source": [
    "# Create an arbitrary adjacency matrix for quickly determining Laplacian matrix\n",
    "Neighbor_Point1 = np.array([1, 1, 0, 1, 0])\n",
    "Neighbor_Point2 = np.array([1, 1, 1, 0, 1])\n",
    "Neighbor_Point3 = np.array([1, 1, 1, 1, 0])\n",
    "Neighbor_Point4 = np.array([0, 1, 1, 1, 0])\n",
    "Neighbor_Point5 = np.array([0, 0, 1, 1, 1])"
   ]
  },
  {
   "cell_type": "code",
   "execution_count": 65,
   "metadata": {},
   "outputs": [],
   "source": [
    "Indicator_Matrix = np.array([Neighbor_Point1, Neighbor_Point2, Neighbor_Point3, Neighbor_Point4, Neighbor_Point5])"
   ]
  },
  {
   "cell_type": "code",
   "execution_count": 66,
   "metadata": {},
   "outputs": [
    {
     "data": {
      "text/plain": [
       "array([[1, 1, 0, 1, 0],\n",
       "       [1, 1, 1, 0, 1],\n",
       "       [1, 1, 1, 1, 0],\n",
       "       [0, 1, 1, 1, 0],\n",
       "       [0, 0, 1, 1, 1]])"
      ]
     },
     "execution_count": 66,
     "metadata": {},
     "output_type": "execute_result"
    }
   ],
   "source": [
    "Indicator_Matrix"
   ]
  },
  {
   "cell_type": "code",
   "execution_count": 70,
   "metadata": {
    "scrolled": true
   },
   "outputs": [
    {
     "data": {
      "text/plain": [
       "array([[1.00000000e+00, 2.74878501e-43, 0.00000000e+00, 5.16642063e-55,\n",
       "        0.00000000e+00],\n",
       "       [2.74878501e-43, 1.00000000e+00, 2.74878501e-43, 0.00000000e+00,\n",
       "        7.00435203e-18],\n",
       "       [2.06115362e-09, 2.74878501e-43, 1.00000000e+00, 5.52108228e-42,\n",
       "        0.00000000e+00],\n",
       "       [0.00000000e+00, 5.24288566e-22, 5.52108228e-42, 1.00000000e+00,\n",
       "        0.00000000e+00],\n",
       "       [0.00000000e+00, 0.00000000e+00, 6.82560338e-08, 7.88235979e-25,\n",
       "        1.00000000e+00]])"
      ]
     },
     "execution_count": 70,
     "metadata": {},
     "output_type": "execute_result"
    }
   ],
   "source": [
    "## Pairwise multiplication\n",
    "S * Indicator_Matrix"
   ]
  },
  {
   "cell_type": "code",
   "execution_count": 68,
   "metadata": {},
   "outputs": [],
   "source": [
    "## next step is to calculate the Laplacian score based on this paper\n",
    "##https://papers.nips.cc/paper/2909-laplacian-score-for-feature-selection.pdf"
   ]
  },
  {
   "cell_type": "code",
   "execution_count": 69,
   "metadata": {},
   "outputs": [],
   "source": [
    "## Demo program from the scikit-feature feature selection repository\n",
    "## http://featureselection.asu.edu/\n",
    "##/home/long/Desktop/Python/Feature_Selection/prog1.py\n"
   ]
  }
 ],
 "metadata": {
  "kernelspec": {
   "display_name": "Python 3",
   "language": "python",
   "name": "python3"
  },
  "language_info": {
   "codemirror_mode": {
    "name": "ipython",
    "version": 3
   },
   "file_extension": ".py",
   "mimetype": "text/x-python",
   "name": "python",
   "nbconvert_exporter": "python",
   "pygments_lexer": "ipython3",
   "version": "3.6.9"
  }
 },
 "nbformat": 4,
 "nbformat_minor": 4
}
