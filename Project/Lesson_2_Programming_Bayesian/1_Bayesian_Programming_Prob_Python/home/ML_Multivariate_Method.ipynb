{
 "cells": [
  {
   "cell_type": "code",
   "execution_count": 2,
   "metadata": {},
   "outputs": [],
   "source": [
    "import numpy as np"
   ]
  },
  {
   "cell_type": "code",
   "execution_count": 4,
   "metadata": {},
   "outputs": [
    {
     "data": {
      "text/plain": [
       "[13, 5]"
      ]
     },
     "execution_count": 4,
     "metadata": {},
     "output_type": "execute_result"
    }
   ],
   "source": [
    "pop_mean = [13, 5]\n",
    "pop_mean"
   ]
  },
  {
   "cell_type": "code",
   "execution_count": 5,
   "metadata": {},
   "outputs": [
    {
     "data": {
      "text/plain": [
       "[[5, 0.3], [0.3, 2]]"
      ]
     },
     "execution_count": 5,
     "metadata": {},
     "output_type": "execute_result"
    }
   ],
   "source": [
    "pop_cov = [[5,.3], [.3,2]]\n",
    "pop_cov"
   ]
  },
  {
   "cell_type": "code",
   "execution_count": 15,
   "metadata": {},
   "outputs": [
    {
     "name": "stdout",
     "output_type": "stream",
     "text": [
      "200\n"
     ]
    }
   ],
   "source": [
    "mySample = []\n",
    "mySample = np.random.multivariate_normal(pop_mean, pop_cov, 100)\n",
    "mySample\n",
    "print(mySample.size)"
   ]
  },
  {
   "cell_type": "code",
   "execution_count": 11,
   "metadata": {},
   "outputs": [
    {
     "data": {
      "text/plain": [
       "array([[15.89255987, 13.66589349, 14.86449428, 14.27420879, 17.48087003,\n",
       "        14.88384686, 14.26346277, 14.15306617, 14.74898923, 13.93852504,\n",
       "        13.21288389, 13.32065784, 15.17656957, 13.13220293,  8.94983013,\n",
       "        13.45647452, 12.12232475, 14.82759169, 12.07042886, 15.90946147,\n",
       "        12.80322706, 10.69901903, 13.59605905,  7.66112486, 11.86969266,\n",
       "        12.3898279 , 12.91137482, 15.71790489, 12.66189298, 15.44590266,\n",
       "        16.53957766, 10.84617687, 16.61619001, 14.3874941 , 11.14169112,\n",
       "        13.73086477, 11.21061839, 14.8226115 , 17.45180078, 18.68999879,\n",
       "        15.89943019, 11.77635139, 12.13973077, 12.52157025, 16.07208313,\n",
       "         6.77260401, 13.66792748, 14.42471488, 12.99147299, 10.04307462,\n",
       "        16.17256782, 10.85481707, 13.11092302,  8.58380987, 15.25891914,\n",
       "        12.52196966, 13.73159189, 15.26568072, 14.69950308,  8.90879951,\n",
       "        10.39666759, 16.10153897, 12.40193645, 14.91522368, 13.93968787,\n",
       "        14.49794204, 12.26501549, 16.05314786, 10.61389122, 13.18698033,\n",
       "        10.36849993, 14.17095708, 13.48479608, 10.87986706, 16.10332642,\n",
       "        12.76377548, 11.77402462, 12.36062578, 12.43778702, 12.27434704,\n",
       "        12.16504327, 10.68735774, 12.49951797, 15.72701937, 12.89932626,\n",
       "        12.24348837, 11.34249377, 12.71485362,  9.88724065,  8.74728083,\n",
       "        15.72909792, 11.43888841, 16.36552176, 13.96876607, 11.86882089,\n",
       "        11.40896372, 12.11176251, 12.74579253, 15.99403078, 14.73105777],\n",
       "       [ 5.13520365,  6.28405361,  2.46039387,  4.1196917 ,  8.06777596,\n",
       "         5.12734337,  7.71970676,  4.58825111,  5.87816351,  7.12408095,\n",
       "         5.50036997,  8.12202125,  4.53942381,  5.77390546,  3.52291611,\n",
       "         5.44617535,  5.13303439,  4.44642426,  4.48773995,  6.72896751,\n",
       "         3.90946952,  4.70923696,  6.13567032,  3.43788628,  5.01770518,\n",
       "         6.67597472,  4.62840677,  6.12774658,  5.67919258,  7.23214112,\n",
       "         7.35369153,  4.41629743,  7.7094069 ,  4.05653668,  1.1391233 ,\n",
       "         4.94745104,  4.48133558,  8.2882491 ,  6.39831881,  3.99482049,\n",
       "         6.68722015,  3.7626814 ,  6.53909278,  5.82754015,  5.37943061,\n",
       "         7.55520906,  4.77858622,  6.27166636,  6.12659428,  5.5651639 ,\n",
       "         5.66560832,  7.17384013,  7.83399941,  4.56890136,  4.48592156,\n",
       "         9.2272128 ,  6.53152558,  5.60902309,  6.15719397,  5.2455277 ,\n",
       "         4.78120148,  4.70987143,  4.25335529,  3.02661338,  3.80516403,\n",
       "         3.41764745,  6.96425472,  6.89291608,  5.84237226,  6.16293691,\n",
       "         3.25996729,  4.3695531 ,  5.05152363,  3.50356681,  6.17755377,\n",
       "         6.24371634,  3.37935646,  4.60925879,  5.63652398,  4.60774127,\n",
       "         6.30279063,  6.49988639,  5.14041109,  5.68696887,  6.44960066,\n",
       "         3.88748259,  5.31528981,  5.69066214,  4.51023004,  4.42911527,\n",
       "         4.73441234,  4.92848225,  4.67257456,  3.12402141,  3.50490628,\n",
       "         5.68609263,  4.84573274,  3.78317726,  6.45631596,  3.64733376]])"
      ]
     },
     "execution_count": 11,
     "metadata": {},
     "output_type": "execute_result"
    }
   ],
   "source": [
    "mySample.T"
   ]
  },
  {
   "cell_type": "code",
   "execution_count": 10,
   "metadata": {},
   "outputs": [
    {
     "data": {
      "text/plain": [
       "array([[5.06660664, 0.67883543],\n",
       "       [0.67883543, 2.00164375]])"
      ]
     },
     "execution_count": 10,
     "metadata": {},
     "output_type": "execute_result"
    }
   ],
   "source": [
    "np.cov(mySample.T)"
   ]
  },
  {
   "cell_type": "code",
   "execution_count": 18,
   "metadata": {},
   "outputs": [
    {
     "data": {
      "text/plain": [
       "array([12.98314097,  5.03929325])"
      ]
     },
     "execution_count": 18,
     "metadata": {},
     "output_type": "execute_result"
    }
   ],
   "source": [
    "np.mean(mySample, axis=0)"
   ]
  },
  {
   "cell_type": "code",
   "execution_count": 19,
   "metadata": {},
   "outputs": [],
   "source": [
    "def gen_bivariate_normal_sample(pop_mean, pop_cov, sample_size):\n",
    "    mySample = []\n",
    "    meanMatrix = []\n",
    "    covMatrix = []\n",
    "    mySample = np.random.multivariate_normal(pop_mean, pop_cov, sample_size)\n",
    "    meanMatrix = np.mean(mySample, axis=0)\n",
    "    covMatrix = np.cov(mySample.T)\n",
    "    return (meanMatrix, covMatrix)"
   ]
  },
  {
   "cell_type": "code",
   "execution_count": 20,
   "metadata": {},
   "outputs": [],
   "source": [
    "results = ()\n",
    "results = gen_bivariate_normal_sample(pop_mean, pop_cov, 100)"
   ]
  },
  {
   "cell_type": "code",
   "execution_count": 21,
   "metadata": {},
   "outputs": [
    {
     "data": {
      "text/plain": [
       "(array([13.20354299,  4.93157025]), array([[5.18627055, 0.02369612],\n",
       "        [0.02369612, 2.46650322]]))"
      ]
     },
     "execution_count": 21,
     "metadata": {},
     "output_type": "execute_result"
    }
   ],
   "source": [
    "results"
   ]
  },
  {
   "cell_type": "code",
   "execution_count": 22,
   "metadata": {},
   "outputs": [
    {
     "data": {
      "text/plain": [
       "(array([12.94841668,  5.00877208]), array([[5.19496838, 0.42653046],\n",
       "        [0.42653046, 2.0776509 ]]))"
      ]
     },
     "execution_count": 22,
     "metadata": {},
     "output_type": "execute_result"
    }
   ],
   "source": [
    "results = ()\n",
    "results = gen_bivariate_normal_sample(pop_mean, pop_cov, 1000)\n",
    "results"
   ]
  }
 ],
 "metadata": {
  "kernelspec": {
   "display_name": "Python 3",
   "language": "python",
   "name": "python3"
  },
  "language_info": {
   "codemirror_mode": {
    "name": "ipython",
    "version": 3
   },
   "file_extension": ".py",
   "mimetype": "text/x-python",
   "name": "python",
   "nbconvert_exporter": "python",
   "pygments_lexer": "ipython3",
   "version": "3.6.9"
  }
 },
 "nbformat": 4,
 "nbformat_minor": 4
}
