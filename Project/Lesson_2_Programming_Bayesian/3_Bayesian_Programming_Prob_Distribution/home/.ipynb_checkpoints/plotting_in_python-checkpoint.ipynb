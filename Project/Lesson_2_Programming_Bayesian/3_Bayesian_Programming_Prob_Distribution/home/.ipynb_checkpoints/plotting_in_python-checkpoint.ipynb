{
 "cells": [
  {
   "cell_type": "markdown",
   "metadata": {},
   "source": [
    "# Demo: Making Visualizations in Python\n",
    "\n",
    "The next part of the lesson is about visualizing probability distributions. \n",
    "\n",
    "Python has a very useful but somewhat complicated library for creating visualizations called [matplotlib](https://matplotlib.org/).\n",
    "\n",
    "One of the best ways to learn matplotlib is by looking at examples. If you search the internet for \"matplotlib bar chart\" or \"matplotlib scatter plot\", you will find many code examples that you can learn from.\n",
    "\n",
    "To get you started, we are going to show you a few plots using matplotlib. These examples will help you for the next few parts of the coding lessons."
   ]
  },
  {
   "cell_type": "markdown",
   "metadata": {},
   "source": [
    "# Example: ScatterPlot\n",
    "\n",
    "One of the most common plots is an x-y scatterplot. The code below will give you a sense for how matplotlib works. You'll see that you build up a plot piece by piece.\n",
    "\n",
    "We are using some made-up data for the x and y positons of the points. Run the code below, and then we'll explain what each line is doing."
   ]
  },
  {
   "cell_type": "code",
   "execution_count": null,
   "metadata": {},
   "outputs": [],
   "source": [
    "import matplotlib.pyplot as plt\n",
    "%matplotlib inline\n",
    "\n",
    "x = [1, 2, 3, 4, 5, 6, 7, 8, 9, 10]\n",
    "y = [2, 4, 6, 8, 10, 12, 14, 16, 18, 20]\n",
    "\n",
    "plt.scatter(x, y)\n",
    "plt.xlabel('x values')\n",
    "plt.ylabel('y values')\n",
    "plt.title('X values versus Y values')\n",
    "plt.xticks([0, 1, 2, 3, 4, 5, 6, 7, 8, 9, 10, 11])\n",
    "plt.show()"
   ]
  },
  {
   "cell_type": "markdown",
   "metadata": {},
   "source": [
    "# Explanation of the Code\n",
    "```\n",
    "import matplotlib.pyplot as plt\n",
    "```\n",
    "\n",
    "The import statement makes the matplotlib library available to your program. 'as plt' means that we can refer to the library as plt instead of by its full name.\n",
    "\n",
    "```\n",
    "x = [1, 2, 3, 4, 5, 6, 7, 8, 9, 10]\n",
    "y = [2, 4, 6, 8, 10, 12, 14, 16, 18, 20]\n",
    "```\n",
    "\n",
    "Here we assign values to be plotted. If you think in terms of (x, y), then the points would be (1, 2) then (2, 4) then (3, 6), etc. However, matplotlib expects the x values and y values to be in separate lists.\n",
    "\n",
    "```\n",
    "plt.scatter(x, y)\n",
    "```\n",
    "\n",
    "The `plt.scatter(x,y)` line tells Python to create a scatter plot.\n",
    "\n",
    "```\n",
    "plt.xlabel('x values')\n",
    "plt.ylabel('y values')\n",
    "plt.title('X values versus Y values')\n",
    "```\n",
    "\n",
    "These lines put labels on the x-axis, y-axis and gives the chart a title.\n",
    "\n",
    "```\n",
    "plt.xticks([0, 1, 2, 3, 4, 5, 6, 7, 8, 9, 10, 11])\n",
    "```\n",
    "\n",
    "This line manually sets the x-tick marks.\n",
    "\n",
    "```\n",
    "plt.show()\n",
    "```\n",
    "\n",
    "And finally, `plt.show()` outputs the chart"
   ]
  },
  {
   "cell_type": "markdown",
   "metadata": {},
   "source": [
    "# Example: Bar Chart\n",
    "\n",
    "What if we take the same x and y values but instead create a bar chart? Only two things changed in the code below.\n",
    "\n",
    "Instead of a scatter plot, we've created a bar chart.\n",
    "`plt.bar(x,y)`\n",
    "\n",
    "And we modified the x tick marks so that 0 and 11 were not included. Run the code below to see what happens."
   ]
  },
  {
   "cell_type": "code",
   "execution_count": null,
   "metadata": {},
   "outputs": [],
   "source": [
    "import matplotlib.pyplot as plt\n",
    "%matplotlib inline\n",
    "\n",
    "x = [1, 2, 3, 4, 5, 6, 7, 8, 9, 10]\n",
    "y = [2, 4, 6, 8, 10, 12, 14, 16, 18, 20]\n",
    "\n",
    "plt.bar(x, y)\n",
    "plt.xlabel('x values')\n",
    "plt.ylabel('y values')\n",
    "plt.title('X values versus Y values')\n",
    "plt.xticks([1, 2, 3, 4, 5, 6, 7, 8, 9, 10])\n",
    "plt.show()"
   ]
  },
  {
   "cell_type": "markdown",
   "metadata": {},
   "source": [
    "# Example: Bar Chart Again\n",
    "\n",
    "If you're familiar with bar charts, then you might remember that the x-axis is actually a discrete variable. Take a look at the code below to see how the visusalization changes. The major change in the code was that the x values are now strings instead of numerical.\n",
    "\n",
    "Run this code cell below."
   ]
  },
  {
   "cell_type": "code",
   "execution_count": null,
   "metadata": {
    "scrolled": true
   },
   "outputs": [],
   "source": [
    "import matplotlib.pyplot as plt\n",
    "%matplotlib inline\n",
    "\n",
    "x = ['apples', 'pears', 'bananas', \n",
    "     'grapes', 'melons', 'avocados', 'cherries', 'oranges', 'pumpkins',\n",
    "    'tomatoes']\n",
    "y = [2, 4, 6, 8, 10, 12, 14, 16, 18, 20]\n",
    "\n",
    "plt.bar(x, y)\n",
    "plt.xlabel('x values')\n",
    "plt.ylabel('y values')\n",
    "plt.title('X values versus Y values')\n",
    "plt.xticks(rotation=70)\n",
    "plt.show()"
   ]
  },
  {
   "cell_type": "markdown",
   "metadata": {},
   "source": [
    "Matplotlib sorts the x values alphabetically."
   ]
  },
  {
   "cell_type": "markdown",
   "metadata": {},
   "source": [
    "# Example: Line Chart\n",
    "\n",
    "For the final example, run the code cell below. It outputs a line plot. "
   ]
  },
  {
   "cell_type": "code",
   "execution_count": null,
   "metadata": {},
   "outputs": [],
   "source": [
    "import matplotlib.pyplot as plt\n",
    "%matplotlib inline\n",
    "\n",
    "x = [1, 2, 3, 4, 5, 6, 7, 8, 9, 10]\n",
    "y = [2, 4, 6, 8, 10, 12, 14, 16, 18, 20]\n",
    "\n",
    "plt.plot(x, y)\n",
    "plt.xlabel('x values')\n",
    "plt.ylabel('y values')\n",
    "plt.title('X values versus Y values')\n",
    "plt.xticks([1, 2, 3, 4, 5, 6, 7, 8, 9, 10])\n",
    "plt.show()"
   ]
  },
  {
   "cell_type": "markdown",
   "metadata": {},
   "source": [
    "The only line of code that changed was \n",
    "`plt.plot(x,y)` instead of `plt.bar(x,y)`. \n",
    "\n",
    "Matplotlib automatically outputs a line chart when you call plt.plot().\n",
    "\n",
    "Now that you are familiar with matplotlib, it's time to make some visualizations!"
   ]
  },
  {
   "cell_type": "code",
   "execution_count": null,
   "metadata": {},
   "outputs": [],
   "source": []
  }
 ],
 "metadata": {
  "kernelspec": {
   "display_name": "Python 3",
   "language": "python",
   "name": "python3"
  },
  "language_info": {
   "codemirror_mode": {
    "name": "ipython",
    "version": 3
   },
   "file_extension": ".py",
   "mimetype": "text/x-python",
   "name": "python",
   "nbconvert_exporter": "python",
   "pygments_lexer": "ipython3",
   "version": "3.6.3"
  }
 },
 "nbformat": 4,
 "nbformat_minor": 2
}
